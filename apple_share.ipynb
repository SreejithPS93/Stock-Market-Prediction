{
  "nbformat": 4,
  "nbformat_minor": 0,
  "metadata": {
    "colab": {
      "provenance": [],
      "authorship_tag": "ABX9TyMrGLaBm65aDkGleni/IE9/",
      "include_colab_link": true
    },
    "kernelspec": {
      "name": "python3",
      "display_name": "Python 3"
    },
    "language_info": {
      "name": "python"
    }
  },
  "cells": [
    {
      "cell_type": "markdown",
      "metadata": {
        "id": "view-in-github",
        "colab_type": "text"
      },
      "source": [
        "<a href=\"https://colab.research.google.com/github/Trojan55/Stock-Market-Prediction/blob/main/apple_share.ipynb\" target=\"_parent\"><img src=\"https://colab.research.google.com/assets/colab-badge.svg\" alt=\"Open In Colab\"/></a>"
      ]
    },
    {
      "cell_type": "code",
      "execution_count": null,
      "metadata": {
        "id": "0UO8o2b8ZCjc"
      },
      "outputs": [],
      "source": [
        "import pandas as pd\n",
        "import matplotlib.pyplot as plt\n",
        "import numpy as np\n",
        "import math\n",
        "from sklearn.preprocessing import MinMaxScaler\n",
        "from sklearn.metrics import mean_squared_error\n",
        "from keras.models import Sequential\n",
        "from keras.layers import Dense, Activation\n",
        "from keras.layers import LSTM"
      ]
    },
    {
      "cell_type": "code",
      "source": [
        "from google.colab import drive\n",
        "drive.mount('/content/drive')"
      ],
      "metadata": {
        "colab": {
          "base_uri": "https://localhost:8080/"
        },
        "id": "6NVJ6_5OaME7",
        "outputId": "ddcec4e2-a20d-4cce-f814-2941fc53e226"
      },
      "execution_count": null,
      "outputs": [
        {
          "output_type": "stream",
          "name": "stdout",
          "text": [
            "Mounted at /content/drive\n"
          ]
        }
      ]
    },
    {
      "cell_type": "code",
      "source": [],
      "metadata": {
        "id": "Phh-4pnO0UM4"
      },
      "execution_count": null,
      "outputs": []
    },
    {
      "cell_type": "code",
      "source": [
        "dataset = pd.read_csv('/content/drive/MyDrive/Apple_share.csv',usecols=[1,2,3,4])\n",
        "dataset = dataset.reindex(index = dataset.index[::-1])\n",
        "print(dataset)"
      ],
      "metadata": {
        "colab": {
          "base_uri": "https://localhost:8080/"
        },
        "id": "YRFcL5rxbJVf",
        "outputId": "d4568a13-ff92-45ee-89b6-9e8b9be8db93"
      },
      "execution_count": null,
      "outputs": [
        {
          "output_type": "stream",
          "name": "stdout",
          "text": [
            "        Open    High     Low   Close\n",
            "1663   46.52   47.18   46.41   47.08\n",
            "1662   47.49   47.50   46.88   47.33\n",
            "1661   47.08   47.76   47.07   47.71\n",
            "1660   47.82   47.89   47.56   47.68\n",
            "1659   47.71   48.05   47.41   48.02\n",
            "...      ...     ...     ...     ...\n",
            "4     157.06  158.92  156.67  158.81\n",
            "3     158.60  161.83  158.27  160.08\n",
            "2     159.26  161.27  159.11  161.06\n",
            "1     159.90  160.00  154.63  155.32\n",
            "0     156.60  158.57  156.07  157.48\n",
            "\n",
            "[1664 rows x 4 columns]\n"
          ]
        }
      ]
    },
    {
      "cell_type": "code",
      "source": [
        "dataset.shape\n",
        "dataset = dataset.values\n",
        "dataset = dataset.astype('float32')"
      ],
      "metadata": {
        "id": "QTQ-x_t6cSxu"
      },
      "execution_count": null,
      "outputs": []
    },
    {
      "cell_type": "code",
      "source": [
        "# normalize the dataset\n",
        "scaler = MinMaxScaler(feature_range=(0, 1))\n",
        "dataset = scaler.fit_transform(dataset)\n",
        "\n",
        "# split into train and test sets\n",
        "train_size = int(len(dataset) * 0.67)\n",
        "test_size = len(dataset) - train_size\n",
        "train, test = dataset[0:train_size,:],dataset[train_size:len(dataset),:]"
      ],
      "metadata": {
        "id": "Zv7kFSMKcYHV"
      },
      "execution_count": null,
      "outputs": []
    },
    {
      "cell_type": "code",
      "source": [
        "# split a multivariate sequence into samples\n",
        "def create_dataset(sequences, n_steps):\n",
        "  X, y = list(), list()\n",
        "  for i in range(len(sequences)):\n",
        "# find the end of this pattern\n",
        "    end_ix = i + n_steps\n",
        "# check if we are beyond the dataset\n",
        "    if end_ix > len(sequences)-1:\n",
        "      break\n",
        "# gather input and output parts of the pattern\n",
        "    seq_x, seq_y = sequences[i:end_ix, :], sequences[end_ix, :]\n",
        "    X.append(seq_x)\n",
        "    y.append(seq_y)\n",
        "  return np.array(X), np.array(y)"
      ],
      "metadata": {
        "id": "WeBpEaS-cf2u"
      },
      "execution_count": null,
      "outputs": []
    },
    {
      "cell_type": "code",
      "source": [
        "# reshape into X=t and Y=t+1\n",
        "look_back = 2\n",
        "trainX, trainY = create_dataset(train, look_back)\n",
        "testX, testY = create_dataset(test, look_back)\n",
        "print(trainX.shape)"
      ],
      "metadata": {
        "colab": {
          "base_uri": "https://localhost:8080/"
        },
        "id": "Ulz4gX2vcvtV",
        "outputId": "e3319bf5-6515-4677-ecca-6c2394528282"
      },
      "execution_count": null,
      "outputs": [
        {
          "output_type": "stream",
          "name": "stdout",
          "text": [
            "(1112, 2, 4)\n"
          ]
        }
      ]
    },
    {
      "cell_type": "code",
      "source": [
        "# define model\n",
        "n_features = trainX.shape[2]\n",
        "model = Sequential()\n",
        "model.add(LSTM(100, activation='relu', return_sequences=True,input_shape=(look_back, n_features)))\n",
        "model.add(LSTM(256, activation='relu'))\n",
        "model.add(Dense(n_features))\n",
        "model.compile(optimizer='adam', loss='mse')\n",
        "model.summary()"
      ],
      "metadata": {
        "colab": {
          "base_uri": "https://localhost:8080/",
          "height": 293
        },
        "id": "D17hgca0c4pH",
        "outputId": "9d9adde4-aa7f-4c51-ad39-9d78737be5b9"
      },
      "execution_count": null,
      "outputs": [
        {
          "output_type": "stream",
          "name": "stderr",
          "text": [
            "/usr/local/lib/python3.10/dist-packages/keras/src/layers/rnn/rnn.py:204: UserWarning: Do not pass an `input_shape`/`input_dim` argument to a layer. When using Sequential models, prefer using an `Input(shape)` object as the first layer in the model instead.\n",
            "  super().__init__(**kwargs)\n"
          ]
        },
        {
          "output_type": "display_data",
          "data": {
            "text/plain": [
              "\u001b[1mModel: \"sequential\"\u001b[0m\n"
            ],
            "text/html": [
              "<pre style=\"white-space:pre;overflow-x:auto;line-height:normal;font-family:Menlo,'DejaVu Sans Mono',consolas,'Courier New',monospace\"><span style=\"font-weight: bold\">Model: \"sequential\"</span>\n",
              "</pre>\n"
            ]
          },
          "metadata": {}
        },
        {
          "output_type": "display_data",
          "data": {
            "text/plain": [
              "┏━━━━━━━━━━━━━━━━━━━━━━━━━━━━━━━━━━━━━━┳━━━━━━━━━━━━━━━━━━━━━━━━━━━━━┳━━━━━━━━━━━━━━━━━┓\n",
              "┃\u001b[1m \u001b[0m\u001b[1mLayer (type)                        \u001b[0m\u001b[1m \u001b[0m┃\u001b[1m \u001b[0m\u001b[1mOutput Shape               \u001b[0m\u001b[1m \u001b[0m┃\u001b[1m \u001b[0m\u001b[1m        Param #\u001b[0m\u001b[1m \u001b[0m┃\n",
              "┡━━━━━━━━━━━━━━━━━━━━━━━━━━━━━━━━━━━━━━╇━━━━━━━━━━━━━━━━━━━━━━━━━━━━━╇━━━━━━━━━━━━━━━━━┩\n",
              "│ lstm (\u001b[38;5;33mLSTM\u001b[0m)                          │ (\u001b[38;5;45mNone\u001b[0m, \u001b[38;5;34m2\u001b[0m, \u001b[38;5;34m100\u001b[0m)              │          \u001b[38;5;34m42,000\u001b[0m │\n",
              "├──────────────────────────────────────┼─────────────────────────────┼─────────────────┤\n",
              "│ lstm_1 (\u001b[38;5;33mLSTM\u001b[0m)                        │ (\u001b[38;5;45mNone\u001b[0m, \u001b[38;5;34m256\u001b[0m)                 │         \u001b[38;5;34m365,568\u001b[0m │\n",
              "├──────────────────────────────────────┼─────────────────────────────┼─────────────────┤\n",
              "│ dense (\u001b[38;5;33mDense\u001b[0m)                        │ (\u001b[38;5;45mNone\u001b[0m, \u001b[38;5;34m4\u001b[0m)                   │           \u001b[38;5;34m1,028\u001b[0m │\n",
              "└──────────────────────────────────────┴─────────────────────────────┴─────────────────┘\n"
            ],
            "text/html": [
              "<pre style=\"white-space:pre;overflow-x:auto;line-height:normal;font-family:Menlo,'DejaVu Sans Mono',consolas,'Courier New',monospace\">┏━━━━━━━━━━━━━━━━━━━━━━━━━━━━━━━━━━━━━━┳━━━━━━━━━━━━━━━━━━━━━━━━━━━━━┳━━━━━━━━━━━━━━━━━┓\n",
              "┃<span style=\"font-weight: bold\"> Layer (type)                         </span>┃<span style=\"font-weight: bold\"> Output Shape                </span>┃<span style=\"font-weight: bold\">         Param # </span>┃\n",
              "┡━━━━━━━━━━━━━━━━━━━━━━━━━━━━━━━━━━━━━━╇━━━━━━━━━━━━━━━━━━━━━━━━━━━━━╇━━━━━━━━━━━━━━━━━┩\n",
              "│ lstm (<span style=\"color: #0087ff; text-decoration-color: #0087ff\">LSTM</span>)                          │ (<span style=\"color: #00d7ff; text-decoration-color: #00d7ff\">None</span>, <span style=\"color: #00af00; text-decoration-color: #00af00\">2</span>, <span style=\"color: #00af00; text-decoration-color: #00af00\">100</span>)              │          <span style=\"color: #00af00; text-decoration-color: #00af00\">42,000</span> │\n",
              "├──────────────────────────────────────┼─────────────────────────────┼─────────────────┤\n",
              "│ lstm_1 (<span style=\"color: #0087ff; text-decoration-color: #0087ff\">LSTM</span>)                        │ (<span style=\"color: #00d7ff; text-decoration-color: #00d7ff\">None</span>, <span style=\"color: #00af00; text-decoration-color: #00af00\">256</span>)                 │         <span style=\"color: #00af00; text-decoration-color: #00af00\">365,568</span> │\n",
              "├──────────────────────────────────────┼─────────────────────────────┼─────────────────┤\n",
              "│ dense (<span style=\"color: #0087ff; text-decoration-color: #0087ff\">Dense</span>)                        │ (<span style=\"color: #00d7ff; text-decoration-color: #00d7ff\">None</span>, <span style=\"color: #00af00; text-decoration-color: #00af00\">4</span>)                   │           <span style=\"color: #00af00; text-decoration-color: #00af00\">1,028</span> │\n",
              "└──────────────────────────────────────┴─────────────────────────────┴─────────────────┘\n",
              "</pre>\n"
            ]
          },
          "metadata": {}
        },
        {
          "output_type": "display_data",
          "data": {
            "text/plain": [
              "\u001b[1m Total params: \u001b[0m\u001b[38;5;34m408,596\u001b[0m (1.56 MB)\n"
            ],
            "text/html": [
              "<pre style=\"white-space:pre;overflow-x:auto;line-height:normal;font-family:Menlo,'DejaVu Sans Mono',consolas,'Courier New',monospace\"><span style=\"font-weight: bold\"> Total params: </span><span style=\"color: #00af00; text-decoration-color: #00af00\">408,596</span> (1.56 MB)\n",
              "</pre>\n"
            ]
          },
          "metadata": {}
        },
        {
          "output_type": "display_data",
          "data": {
            "text/plain": [
              "\u001b[1m Trainable params: \u001b[0m\u001b[38;5;34m408,596\u001b[0m (1.56 MB)\n"
            ],
            "text/html": [
              "<pre style=\"white-space:pre;overflow-x:auto;line-height:normal;font-family:Menlo,'DejaVu Sans Mono',consolas,'Courier New',monospace\"><span style=\"font-weight: bold\"> Trainable params: </span><span style=\"color: #00af00; text-decoration-color: #00af00\">408,596</span> (1.56 MB)\n",
              "</pre>\n"
            ]
          },
          "metadata": {}
        },
        {
          "output_type": "display_data",
          "data": {
            "text/plain": [
              "\u001b[1m Non-trainable params: \u001b[0m\u001b[38;5;34m0\u001b[0m (0.00 B)\n"
            ],
            "text/html": [
              "<pre style=\"white-space:pre;overflow-x:auto;line-height:normal;font-family:Menlo,'DejaVu Sans Mono',consolas,'Courier New',monospace\"><span style=\"font-weight: bold\"> Non-trainable params: </span><span style=\"color: #00af00; text-decoration-color: #00af00\">0</span> (0.00 B)\n",
              "</pre>\n"
            ]
          },
          "metadata": {}
        }
      ]
    },
    {
      "cell_type": "code",
      "source": [
        "model.fit(trainX, trainY, validation_data=(testX, testY),epochs=100, batch_size=100, verbose=2)"
      ],
      "metadata": {
        "colab": {
          "base_uri": "https://localhost:8080/"
        },
        "id": "0TY6cEa_dNUI",
        "outputId": "e45375d3-9cc7-45e7-b3f5-cc1ad2aef27b"
      },
      "execution_count": null,
      "outputs": [
        {
          "output_type": "stream",
          "name": "stdout",
          "text": [
            "Epoch 1/100\n",
            "12/12 - 4s - 366ms/step - loss: 0.1061 - val_loss: 0.3090\n",
            "Epoch 2/100\n",
            "12/12 - 0s - 27ms/step - loss: 0.0574 - val_loss: 0.0825\n",
            "Epoch 3/100\n",
            "12/12 - 0s - 27ms/step - loss: 0.0127 - val_loss: 0.0013\n",
            "Epoch 4/100\n",
            "12/12 - 0s - 26ms/step - loss: 0.0074 - val_loss: 0.0191\n",
            "Epoch 5/100\n",
            "12/12 - 0s - 27ms/step - loss: 0.0038 - val_loss: 0.0015\n",
            "Epoch 6/100\n",
            "12/12 - 1s - 50ms/step - loss: 0.0011 - val_loss: 0.0038\n",
            "Epoch 7/100\n",
            "12/12 - 0s - 27ms/step - loss: 6.0549e-04 - val_loss: 0.0029\n",
            "Epoch 8/100\n",
            "12/12 - 1s - 51ms/step - loss: 3.9830e-04 - val_loss: 0.0024\n",
            "Epoch 9/100\n",
            "12/12 - 1s - 52ms/step - loss: 2.8396e-04 - val_loss: 0.0029\n",
            "Epoch 10/100\n",
            "12/12 - 0s - 26ms/step - loss: 2.6249e-04 - val_loss: 0.0015\n",
            "Epoch 11/100\n",
            "12/12 - 0s - 25ms/step - loss: 2.3277e-04 - val_loss: 0.0012\n",
            "Epoch 12/100\n",
            "12/12 - 0s - 29ms/step - loss: 2.2500e-04 - val_loss: 0.0011\n",
            "Epoch 13/100\n",
            "12/12 - 1s - 48ms/step - loss: 2.0747e-04 - val_loss: 0.0012\n",
            "Epoch 14/100\n",
            "12/12 - 1s - 53ms/step - loss: 2.0041e-04 - val_loss: 0.0011\n",
            "Epoch 15/100\n",
            "12/12 - 1s - 67ms/step - loss: 1.9455e-04 - val_loss: 9.2052e-04\n",
            "Epoch 16/100\n",
            "12/12 - 1s - 51ms/step - loss: 1.9304e-04 - val_loss: 8.5614e-04\n",
            "Epoch 17/100\n",
            "12/12 - 1s - 44ms/step - loss: 1.9190e-04 - val_loss: 7.3998e-04\n",
            "Epoch 18/100\n",
            "12/12 - 1s - 51ms/step - loss: 1.9301e-04 - val_loss: 8.6275e-04\n",
            "Epoch 19/100\n",
            "12/12 - 1s - 53ms/step - loss: 1.8777e-04 - val_loss: 7.3849e-04\n",
            "Epoch 20/100\n",
            "12/12 - 1s - 51ms/step - loss: 1.8334e-04 - val_loss: 7.4541e-04\n",
            "Epoch 21/100\n",
            "12/12 - 1s - 45ms/step - loss: 1.8379e-04 - val_loss: 6.3926e-04\n",
            "Epoch 22/100\n",
            "12/12 - 0s - 35ms/step - loss: 1.8293e-04 - val_loss: 6.1218e-04\n",
            "Epoch 23/100\n",
            "12/12 - 1s - 51ms/step - loss: 1.8607e-04 - val_loss: 5.9682e-04\n",
            "Epoch 24/100\n",
            "12/12 - 0s - 27ms/step - loss: 1.8273e-04 - val_loss: 5.7593e-04\n",
            "Epoch 25/100\n",
            "12/12 - 0s - 27ms/step - loss: 1.8855e-04 - val_loss: 5.6309e-04\n",
            "Epoch 26/100\n",
            "12/12 - 1s - 52ms/step - loss: 2.0319e-04 - val_loss: 5.0482e-04\n",
            "Epoch 27/100\n",
            "12/12 - 0s - 27ms/step - loss: 1.9568e-04 - val_loss: 5.1938e-04\n",
            "Epoch 28/100\n",
            "12/12 - 0s - 26ms/step - loss: 1.9772e-04 - val_loss: 5.2690e-04\n",
            "Epoch 29/100\n",
            "12/12 - 1s - 52ms/step - loss: 1.9484e-04 - val_loss: 5.0165e-04\n",
            "Epoch 30/100\n",
            "12/12 - 0s - 26ms/step - loss: 1.8076e-04 - val_loss: 5.4729e-04\n",
            "Epoch 31/100\n",
            "12/12 - 1s - 54ms/step - loss: 1.7817e-04 - val_loss: 5.6040e-04\n",
            "Epoch 32/100\n",
            "12/12 - 0s - 28ms/step - loss: 1.7872e-04 - val_loss: 5.6517e-04\n",
            "Epoch 33/100\n",
            "12/12 - 1s - 51ms/step - loss: 1.7879e-04 - val_loss: 4.7871e-04\n",
            "Epoch 34/100\n",
            "12/12 - 1s - 50ms/step - loss: 1.8512e-04 - val_loss: 4.8801e-04\n",
            "Epoch 35/100\n",
            "12/12 - 0s - 26ms/step - loss: 1.7703e-04 - val_loss: 4.6946e-04\n",
            "Epoch 36/100\n",
            "12/12 - 0s - 27ms/step - loss: 1.7977e-04 - val_loss: 4.5906e-04\n",
            "Epoch 37/100\n",
            "12/12 - 1s - 50ms/step - loss: 1.8675e-04 - val_loss: 4.5250e-04\n",
            "Epoch 38/100\n",
            "12/12 - 0s - 27ms/step - loss: 1.8095e-04 - val_loss: 4.9237e-04\n",
            "Epoch 39/100\n",
            "12/12 - 1s - 51ms/step - loss: 1.7592e-04 - val_loss: 5.9271e-04\n",
            "Epoch 40/100\n",
            "12/12 - 0s - 28ms/step - loss: 1.8071e-04 - val_loss: 4.6964e-04\n",
            "Epoch 41/100\n",
            "12/12 - 0s - 29ms/step - loss: 1.7564e-04 - val_loss: 4.8418e-04\n",
            "Epoch 42/100\n",
            "12/12 - 1s - 52ms/step - loss: 1.7665e-04 - val_loss: 4.1438e-04\n",
            "Epoch 43/100\n",
            "12/12 - 0s - 27ms/step - loss: 1.7900e-04 - val_loss: 4.4124e-04\n",
            "Epoch 44/100\n",
            "12/12 - 1s - 68ms/step - loss: 1.7519e-04 - val_loss: 4.7669e-04\n",
            "Epoch 45/100\n",
            "12/12 - 1s - 51ms/step - loss: 1.7850e-04 - val_loss: 6.0711e-04\n",
            "Epoch 46/100\n",
            "12/12 - 1s - 43ms/step - loss: 1.9038e-04 - val_loss: 5.2720e-04\n",
            "Epoch 47/100\n",
            "12/12 - 1s - 51ms/step - loss: 1.7647e-04 - val_loss: 4.3326e-04\n",
            "Epoch 48/100\n",
            "12/12 - 1s - 44ms/step - loss: 1.7464e-04 - val_loss: 4.4352e-04\n",
            "Epoch 49/100\n",
            "12/12 - 1s - 51ms/step - loss: 1.7110e-04 - val_loss: 3.9894e-04\n",
            "Epoch 50/100\n",
            "12/12 - 1s - 52ms/step - loss: 1.7923e-04 - val_loss: 4.6809e-04\n",
            "Epoch 51/100\n",
            "12/12 - 0s - 33ms/step - loss: 1.7359e-04 - val_loss: 4.3161e-04\n",
            "Epoch 52/100\n",
            "12/12 - 1s - 47ms/step - loss: 1.7548e-04 - val_loss: 4.0021e-04\n",
            "Epoch 53/100\n",
            "12/12 - 0s - 26ms/step - loss: 1.7994e-04 - val_loss: 5.2556e-04\n",
            "Epoch 54/100\n",
            "12/12 - 0s - 26ms/step - loss: 1.7903e-04 - val_loss: 4.9530e-04\n",
            "Epoch 55/100\n",
            "12/12 - 0s - 27ms/step - loss: 1.7289e-04 - val_loss: 4.0672e-04\n",
            "Epoch 56/100\n",
            "12/12 - 0s - 27ms/step - loss: 1.6765e-04 - val_loss: 4.7953e-04\n",
            "Epoch 57/100\n",
            "12/12 - 1s - 53ms/step - loss: 1.7027e-04 - val_loss: 3.8015e-04\n",
            "Epoch 58/100\n",
            "12/12 - 1s - 50ms/step - loss: 1.8194e-04 - val_loss: 3.8528e-04\n",
            "Epoch 59/100\n",
            "12/12 - 1s - 52ms/step - loss: 1.6885e-04 - val_loss: 4.1775e-04\n",
            "Epoch 60/100\n",
            "12/12 - 0s - 26ms/step - loss: 1.6729e-04 - val_loss: 4.0655e-04\n",
            "Epoch 61/100\n",
            "12/12 - 0s - 26ms/step - loss: 1.6627e-04 - val_loss: 4.2421e-04\n",
            "Epoch 62/100\n",
            "12/12 - 0s - 26ms/step - loss: 1.6982e-04 - val_loss: 3.9946e-04\n",
            "Epoch 63/100\n",
            "12/12 - 0s - 27ms/step - loss: 1.6538e-04 - val_loss: 3.6118e-04\n",
            "Epoch 64/100\n",
            "12/12 - 1s - 51ms/step - loss: 1.6940e-04 - val_loss: 3.9083e-04\n",
            "Epoch 65/100\n",
            "12/12 - 0s - 27ms/step - loss: 1.6426e-04 - val_loss: 4.2869e-04\n",
            "Epoch 66/100\n",
            "12/12 - 0s - 28ms/step - loss: 1.7022e-04 - val_loss: 3.6197e-04\n",
            "Epoch 67/100\n",
            "12/12 - 0s - 28ms/step - loss: 1.6979e-04 - val_loss: 3.9759e-04\n",
            "Epoch 68/100\n",
            "12/12 - 0s - 26ms/step - loss: 1.6604e-04 - val_loss: 3.5103e-04\n",
            "Epoch 69/100\n",
            "12/12 - 0s - 26ms/step - loss: 1.6694e-04 - val_loss: 3.6670e-04\n",
            "Epoch 70/100\n",
            "12/12 - 1s - 52ms/step - loss: 1.6610e-04 - val_loss: 4.2049e-04\n",
            "Epoch 71/100\n",
            "12/12 - 0s - 26ms/step - loss: 1.6320e-04 - val_loss: 4.5042e-04\n",
            "Epoch 72/100\n",
            "12/12 - 0s - 28ms/step - loss: 1.6355e-04 - val_loss: 3.5251e-04\n",
            "Epoch 73/100\n",
            "12/12 - 0s - 26ms/step - loss: 1.6883e-04 - val_loss: 4.4176e-04\n",
            "Epoch 74/100\n",
            "12/12 - 0s - 25ms/step - loss: 1.7116e-04 - val_loss: 4.4833e-04\n",
            "Epoch 75/100\n",
            "12/12 - 1s - 54ms/step - loss: 1.6260e-04 - val_loss: 3.4507e-04\n",
            "Epoch 76/100\n",
            "12/12 - 1s - 68ms/step - loss: 1.5847e-04 - val_loss: 3.3455e-04\n",
            "Epoch 77/100\n",
            "12/12 - 1s - 42ms/step - loss: 1.5966e-04 - val_loss: 3.5153e-04\n",
            "Epoch 78/100\n",
            "12/12 - 1s - 52ms/step - loss: 1.5623e-04 - val_loss: 3.5208e-04\n",
            "Epoch 79/100\n",
            "12/12 - 1s - 53ms/step - loss: 1.5694e-04 - val_loss: 3.2088e-04\n",
            "Epoch 80/100\n",
            "12/12 - 1s - 59ms/step - loss: 1.6155e-04 - val_loss: 5.5775e-04\n",
            "Epoch 81/100\n",
            "12/12 - 1s - 45ms/step - loss: 1.6430e-04 - val_loss: 4.5642e-04\n",
            "Epoch 82/100\n",
            "12/12 - 1s - 49ms/step - loss: 1.5787e-04 - val_loss: 3.1860e-04\n",
            "Epoch 83/100\n",
            "12/12 - 0s - 40ms/step - loss: 1.5479e-04 - val_loss: 3.8675e-04\n",
            "Epoch 84/100\n",
            "12/12 - 0s - 26ms/step - loss: 1.5233e-04 - val_loss: 3.3090e-04\n",
            "Epoch 85/100\n",
            "12/12 - 0s - 26ms/step - loss: 1.5351e-04 - val_loss: 3.6449e-04\n",
            "Epoch 86/100\n",
            "12/12 - 0s - 25ms/step - loss: 1.5385e-04 - val_loss: 3.8337e-04\n",
            "Epoch 87/100\n",
            "12/12 - 1s - 52ms/step - loss: 1.5052e-04 - val_loss: 3.0367e-04\n",
            "Epoch 88/100\n",
            "12/12 - 0s - 26ms/step - loss: 1.5585e-04 - val_loss: 4.8841e-04\n",
            "Epoch 89/100\n",
            "12/12 - 1s - 51ms/step - loss: 1.5525e-04 - val_loss: 2.9625e-04\n",
            "Epoch 90/100\n",
            "12/12 - 0s - 26ms/step - loss: 1.5410e-04 - val_loss: 3.2964e-04\n",
            "Epoch 91/100\n",
            "12/12 - 0s - 27ms/step - loss: 1.5936e-04 - val_loss: 3.0434e-04\n",
            "Epoch 92/100\n",
            "12/12 - 0s - 26ms/step - loss: 1.6509e-04 - val_loss: 5.4003e-04\n",
            "Epoch 93/100\n",
            "12/12 - 0s - 26ms/step - loss: 1.5416e-04 - val_loss: 2.9030e-04\n",
            "Epoch 94/100\n",
            "12/12 - 0s - 27ms/step - loss: 1.4661e-04 - val_loss: 4.7888e-04\n",
            "Epoch 95/100\n",
            "12/12 - 1s - 49ms/step - loss: 1.6884e-04 - val_loss: 2.9149e-04\n",
            "Epoch 96/100\n",
            "12/12 - 1s - 54ms/step - loss: 1.6101e-04 - val_loss: 4.0143e-04\n",
            "Epoch 97/100\n",
            "12/12 - 0s - 26ms/step - loss: 1.5168e-04 - val_loss: 3.1090e-04\n",
            "Epoch 98/100\n",
            "12/12 - 0s - 26ms/step - loss: 1.4538e-04 - val_loss: 2.8317e-04\n",
            "Epoch 99/100\n",
            "12/12 - 0s - 27ms/step - loss: 1.4160e-04 - val_loss: 3.8931e-04\n",
            "Epoch 100/100\n",
            "12/12 - 0s - 26ms/step - loss: 1.4213e-04 - val_loss: 2.9441e-04\n"
          ]
        },
        {
          "output_type": "execute_result",
          "data": {
            "text/plain": [
              "<keras.src.callbacks.history.History at 0x7d09d87c1b10>"
            ]
          },
          "metadata": {},
          "execution_count": 13
        }
      ]
    },
    {
      "cell_type": "code",
      "source": [
        "trainPredict = model.predict(trainX)\n",
        "testPredict = model.predict(testX, verbose=1)\n",
        "print(testPredict)"
      ],
      "metadata": {
        "colab": {
          "base_uri": "https://localhost:8080/"
        },
        "id": "Mq6okTybdfqi",
        "outputId": "f4a88b08-6002-4acb-b910-d5d6f3bf4280"
      },
      "execution_count": null,
      "outputs": [
        {
          "output_type": "stream",
          "name": "stdout",
          "text": [
            "\u001b[1m35/35\u001b[0m \u001b[32m━━━━━━━━━━━━━━━━━━━━\u001b[0m\u001b[37m\u001b[0m \u001b[1m1s\u001b[0m 13ms/step\n",
            "\u001b[1m18/18\u001b[0m \u001b[32m━━━━━━━━━━━━━━━━━━━━\u001b[0m\u001b[37m\u001b[0m \u001b[1m0s\u001b[0m 4ms/step\n",
            "[[0.7235072  0.719844   0.7195039  0.71535975]\n",
            " [0.73205745 0.7283926  0.7280483  0.7236079 ]\n",
            " [0.726914   0.72329676 0.7230389  0.7182277 ]\n",
            " ...\n",
            " [1.0253346  1.0186728  1.0178934  1.010786  ]\n",
            " [1.0366267  1.0299388  1.0291086  1.021639  ]\n",
            " [1.0210186  1.0145757  1.0136325  1.0058131 ]]\n"
          ]
        }
      ]
    },
    {
      "cell_type": "code",
      "source": [
        "# invert predictions\n",
        "trainPredict = scaler.inverse_transform(trainPredict)\n",
        "trainY = scaler.inverse_transform(trainY)\n",
        "testPredict = scaler.inverse_transform(testPredict)\n",
        "testY = scaler.inverse_transform(testY)"
      ],
      "metadata": {
        "id": "Qr9qngHMdlI3"
      },
      "execution_count": null,
      "outputs": []
    },
    {
      "cell_type": "code",
      "source": [
        "# calculate root mean squared error\n",
        "trainScore = math.sqrt(mean_squared_error(trainY,trainPredict))\n",
        "print('Train Score: %.2f RMSE' % (trainScore))\n",
        "testScore = math.sqrt(mean_squared_error(testY, testPredict))\n",
        "print('Test Score: %.2f RMSE' % (testScore))"
      ],
      "metadata": {
        "colab": {
          "base_uri": "https://localhost:8080/"
        },
        "id": "iEPM8cA-dsy0",
        "outputId": "173037ae-55f9-4d19-b4dc-9cbf2259e98d"
      },
      "execution_count": null,
      "outputs": [
        {
          "output_type": "stream",
          "name": "stdout",
          "text": [
            "Train Score: 1.35 RMSE\n",
            "Test Score: 1.98 RMSE\n"
          ]
        }
      ]
    },
    {
      "cell_type": "code",
      "source": [
        "# shift train predictions for plotting\n",
        "trainPredictPlot = np.empty_like(dataset)\n",
        "trainPredictPlot[:, :] = np.nan\n",
        "trainPredictPlot[look_back:len(trainPredict)+look_back, :] = trainPredict"
      ],
      "metadata": {
        "id": "AZv7d1hbd2qy"
      },
      "execution_count": null,
      "outputs": []
    },
    {
      "cell_type": "code",
      "source": [
        "# shift test predictions for plotting\n",
        "testPredictPlot = np.empty_like(dataset)\n",
        "testPredictPlot[:, :] = np.nan\n",
        "testPredictPlot[len(trainPredict)+(look_back*2):len(dataset),:] = testPredict"
      ],
      "metadata": {
        "id": "0e54_WNsd5Sf"
      },
      "execution_count": null,
      "outputs": []
    },
    {
      "cell_type": "code",
      "source": [
        "# plot baseline and predictions\n",
        "plt.plot(scaler.inverse_transform(dataset))\n",
        "plt.plot(trainPredictPlot)\n",
        "plt.plot(testPredictPlot)\n",
        "plt.show()"
      ],
      "metadata": {
        "colab": {
          "base_uri": "https://localhost:8080/",
          "height": 430
        },
        "id": "PzWiCzwFd_ey",
        "outputId": "7e8ae2e6-a11f-460d-c383-660d98b3dee3"
      },
      "execution_count": null,
      "outputs": [
        {
          "output_type": "display_data",
          "data": {
            "text/plain": [
              "<Figure size 640x480 with 1 Axes>"
            ],
            "image/png": "[encoded data removed]"
          },
          "metadata": {}
        }
      ]
    },
    {
      "cell_type": "code",
      "source": [
        "\n"
      ],
      "metadata": {
        "colab": {
          "base_uri": "https://localhost:8080/",
          "height": 460
        },
        "id": "vhTadWfFfwIE",
        "outputId": "1e3eb4c2-264c-481f-d4d4-6f109829d93f"
      },
      "execution_count": null,
      "outputs": [
        {
          "output_type": "error",
          "ename": "ValueError",
          "evalue": "Exception encountered when calling Sequential.call().\n\n\u001b[1mCannot take the length of shape with unknown rank.\u001b[0m\n\nArguments received by Sequential.call():\n  • inputs=tf.Tensor(shape=<unknown>, dtype=float32)\n  • training=False\n  • mask=None",
          "traceback": [
            "\u001b[0;31m---------------------------------------------------------------------------\u001b[0m",
            "\u001b[0;31mValueError\u001b[0m                                Traceback (most recent call last)",
            "\u001b[0;32m<ipython-input-20-e7e810c29e79>\u001b[0m in \u001b[0;36m<cell line: 3>\u001b[0;34m()\u001b[0m\n\u001b[1;32m      1\u001b[0m \u001b[0msample\u001b[0m \u001b[0;34m=\u001b[0m \u001b[0;34m[\u001b[0m\u001b[0;36m159.45\u001b[0m\u001b[0;34m,\u001b[0m\u001b[0;36m160.00\u001b[0m\u001b[0;34m,\u001b[0m\u001b[0;36m159.14\u001b[0m\u001b[0;34m,\u001b[0m\u001b[0;36m159.87\u001b[0m\u001b[0;34m]\u001b[0m\u001b[0;34m\u001b[0m\u001b[0;34m\u001b[0m\u001b[0m\n\u001b[1;32m      2\u001b[0m \u001b[0msample_to_predict\u001b[0m \u001b[0;34m=\u001b[0m \u001b[0mnp\u001b[0m\u001b[0;34m.\u001b[0m\u001b[0marray\u001b[0m\u001b[0;34m(\u001b[0m\u001b[0msample\u001b[0m\u001b[0;34m)\u001b[0m\u001b[0;34m\u001b[0m\u001b[0;34m\u001b[0m\u001b[0m\n\u001b[0;32m----> 3\u001b[0;31m \u001b[0mprediction\u001b[0m \u001b[0;34m=\u001b[0m \u001b[0mmodel\u001b[0m\u001b[0;34m.\u001b[0m\u001b[0mpredict\u001b[0m\u001b[0;34m(\u001b[0m\u001b[0msample_to_predict\u001b[0m\u001b[0;34m)\u001b[0m\u001b[0;34m\u001b[0m\u001b[0;34m\u001b[0m\u001b[0m\n\u001b[0m\u001b[1;32m      4\u001b[0m \u001b[0mprint\u001b[0m\u001b[0;34m(\u001b[0m\u001b[0mprediction\u001b[0m\u001b[0;34m)\u001b[0m\u001b[0;34m\u001b[0m\u001b[0;34m\u001b[0m\u001b[0m\n",
            "\u001b[0;32m/usr/local/lib/python3.10/dist-packages/keras/src/utils/traceback_utils.py\u001b[0m in \u001b[0;36merror_handler\u001b[0;34m(*args, **kwargs)\u001b[0m\n\u001b[1;32m    120\u001b[0m             \u001b[0;31m# To get the full stack trace, call:\u001b[0m\u001b[0;34m\u001b[0m\u001b[0;34m\u001b[0m\u001b[0m\n\u001b[1;32m    121\u001b[0m             \u001b[0;31m# `keras.config.disable_traceback_filtering()`\u001b[0m\u001b[0;34m\u001b[0m\u001b[0;34m\u001b[0m\u001b[0m\n\u001b[0;32m--> 122\u001b[0;31m             \u001b[0;32mraise\u001b[0m \u001b[0me\u001b[0m\u001b[0;34m.\u001b[0m\u001b[0mwith_traceback\u001b[0m\u001b[0;34m(\u001b[0m\u001b[0mfiltered_tb\u001b[0m\u001b[0;34m)\u001b[0m \u001b[0;32mfrom\u001b[0m \u001b[0;32mNone\u001b[0m\u001b[0;34m\u001b[0m\u001b[0;34m\u001b[0m\u001b[0m\n\u001b[0m\u001b[1;32m    123\u001b[0m         \u001b[0;32mfinally\u001b[0m\u001b[0;34m:\u001b[0m\u001b[0;34m\u001b[0m\u001b[0;34m\u001b[0m\u001b[0m\n\u001b[1;32m    124\u001b[0m             \u001b[0;32mdel\u001b[0m \u001b[0mfiltered_tb\u001b[0m\u001b[0;34m\u001b[0m\u001b[0;34m\u001b[0m\u001b[0m\n",
            "\u001b[0;32m/usr/local/lib/python3.10/dist-packages/keras/src/utils/traceback_utils.py\u001b[0m in \u001b[0;36merror_handler\u001b[0;34m(*args, **kwargs)\u001b[0m\n\u001b[1;32m    120\u001b[0m             \u001b[0;31m# To get the full stack trace, call:\u001b[0m\u001b[0;34m\u001b[0m\u001b[0;34m\u001b[0m\u001b[0m\n\u001b[1;32m    121\u001b[0m             \u001b[0;31m# `keras.config.disable_traceback_filtering()`\u001b[0m\u001b[0;34m\u001b[0m\u001b[0;34m\u001b[0m\u001b[0m\n\u001b[0;32m--> 122\u001b[0;31m             \u001b[0;32mraise\u001b[0m \u001b[0me\u001b[0m\u001b[0;34m.\u001b[0m\u001b[0mwith_traceback\u001b[0m\u001b[0;34m(\u001b[0m\u001b[0mfiltered_tb\u001b[0m\u001b[0;34m)\u001b[0m \u001b[0;32mfrom\u001b[0m \u001b[0;32mNone\u001b[0m\u001b[0;34m\u001b[0m\u001b[0;34m\u001b[0m\u001b[0m\n\u001b[0m\u001b[1;32m    123\u001b[0m         \u001b[0;32mfinally\u001b[0m\u001b[0;34m:\u001b[0m\u001b[0;34m\u001b[0m\u001b[0;34m\u001b[0m\u001b[0m\n\u001b[1;32m    124\u001b[0m             \u001b[0;32mdel\u001b[0m \u001b[0mfiltered_tb\u001b[0m\u001b[0;34m\u001b[0m\u001b[0;34m\u001b[0m\u001b[0m\n",
            "\u001b[0;31mValueError\u001b[0m: Exception encountered when calling Sequential.call().\n\n\u001b[1mCannot take the length of shape with unknown rank.\u001b[0m\n\nArguments received by Sequential.call():\n  • inputs=tf.Tensor(shape=<unknown>, dtype=float32)\n  • training=False\n  • mask=None"
          ]
        }
      ]
    }
  ]
}